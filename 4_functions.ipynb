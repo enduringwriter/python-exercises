{
 "cells": [
  {
   "cell_type": "markdown",
   "id": "cf0e7321",
   "metadata": {},
   "source": [
    "## Python Exercise: functions\n",
    "\n",
    "## Keith Stateson"
   ]
  },
  {
   "cell_type": "markdown",
   "id": "f9b1fb5a",
   "metadata": {},
   "source": [
    "### 1. Define a function named is_two. It should accept one input and return True if the passed input is either the number or the string 2, False otherwise."
   ]
  },
  {
   "cell_type": "code",
   "execution_count": 77,
   "id": "2895a890",
   "metadata": {
    "scrolled": true
   },
   "outputs": [
    {
     "name": "stdout",
     "output_type": "stream",
     "text": [
      "Exercise is correct.\n"
     ]
    }
   ],
   "source": [
    "def is_two(var):\n",
    "    if var == 2 or var == '2':\n",
    "        return True\n",
    "    else:\n",
    "        return False\n",
    "\n",
    "# assert is_two(2) == True\n",
    "# assert is_two(0) == False\n",
    "# assert is_two('2') == True\n",
    "# assert is_two('P') == False  # not working\n",
    "# print(\"Exercise is correct.\")"
   ]
  },
  {
   "cell_type": "code",
   "execution_count": 76,
   "id": "c4ee4d5e",
   "metadata": {
    "scrolled": true
   },
   "outputs": [
    {
     "name": "stdout",
     "output_type": "stream",
     "text": [
      "True\n",
      "True\n",
      "False\n",
      "False\n",
      "False\n"
     ]
    }
   ],
   "source": [
    "print(is_two(2))\n",
    "print(is_two('2'))\n",
    "print(is_two(-1))\n",
    "print(is_two(4.5))\n",
    "print(is_two('P'))"
   ]
  },
  {
   "cell_type": "markdown",
   "id": "c9a35c0d",
   "metadata": {},
   "source": [
    "### 1. alternate method - turn it into a game"
   ]
  },
  {
   "cell_type": "code",
   "execution_count": 93,
   "id": "650564c6",
   "metadata": {},
   "outputs": [],
   "source": [
    "def is_two_game():\n",
    "    play_game = True\n",
    "    \n",
    "    while play_game:\n",
    "        var = input(\"Enter variable to check if it is '2'.\")\n",
    "        if var == 2 or var == '2':\n",
    "            print(\"True\")\n",
    "        else:\n",
    "            print(\"False\")\n",
    "        \n",
    "        continue_game = input(\"Enter 'y' to continue, any other key to quit: \").lower()\n",
    "        if continue_game == 'y':\n",
    "            play_game = True\n",
    "        else:\n",
    "            play_game = False"
   ]
  },
  {
   "cell_type": "code",
   "execution_count": 94,
   "id": "8f30c82c",
   "metadata": {},
   "outputs": [
    {
     "name": "stdout",
     "output_type": "stream",
     "text": [
      "Enter variable to check if it is '2'.2\n",
      "True\n",
      "Enter 'y' to continue, any other key to quit: y\n",
      "Enter variable to check if it is '2'.5\n",
      "False\n",
      "Enter 'y' to continue, any other key to quit: y\n",
      "Enter variable to check if it is '2'.t\n",
      "False\n",
      "Enter 'y' to continue, any other key to quit: h\n"
     ]
    }
   ],
   "source": [
    "is_two_game()"
   ]
  },
  {
   "cell_type": "markdown",
   "id": "ccb52d2d",
   "metadata": {},
   "source": [
    "### 2. Define a function named is_vowel. It should return True if the passed string is a vowel, False otherwise."
   ]
  },
  {
   "cell_type": "code",
   "execution_count": 137,
   "id": "039a9fd6",
   "metadata": {},
   "outputs": [],
   "source": [
    "# def is_vowel(var):\n",
    "#     if len(var) == 1 and var in \"AEIOIaeiou\":\n",
    "#         return True\n",
    "#     else:\n",
    "#         return False\n",
    "\n",
    "def is_vowel(var):\n",
    "    return bool(len(var) == 1 and var in \"AEIOUaeiou\")"
   ]
  },
  {
   "cell_type": "code",
   "execution_count": 111,
   "id": "9af44c18",
   "metadata": {},
   "outputs": [
    {
     "name": "stdout",
     "output_type": "stream",
     "text": [
      "True\n",
      "True\n",
      "True\n",
      "True\n",
      "True\n",
      "True\n",
      "True\n",
      "True\n",
      "True\n",
      "True\n",
      "False\n",
      "False\n",
      "False\n",
      "False\n"
     ]
    }
   ],
   "source": [
    "print(is_vowel(\"a\"))\n",
    "print(is_vowel(\"e\"))\n",
    "print(is_vowel(\"i\"))\n",
    "print(is_vowel(\"o\"))\n",
    "print(is_vowel(\"u\"))\n",
    "print(is_vowel(\"A\"))\n",
    "print(is_vowel(\"E\"))\n",
    "print(is_vowel(\"I\"))\n",
    "print(is_vowel(\"O\"))\n",
    "print(is_vowel(\"U\"))\n",
    "print(is_vowel(\"mango\"))\n",
    "print(is_vowel(\"Q\"))\n",
    "print(is_vowel(\"aei\"))\n",
    "print(is_vowel(\"IOU\"))"
   ]
  },
  {
   "cell_type": "markdown",
   "id": "a00b14f3",
   "metadata": {},
   "source": [
    "2. alternate method - re"
   ]
  },
  {
   "cell_type": "code",
   "execution_count": 118,
   "id": "5bda8316",
   "metadata": {},
   "outputs": [],
   "source": [
    "import re\n",
    "def is_vowel_re(x):\n",
    "    return bool(len(x) == 1 and re.match('A|E|I|O|U|a|e|i|o|u', x))"
   ]
  },
  {
   "cell_type": "code",
   "execution_count": 119,
   "id": "4c3f6a67",
   "metadata": {},
   "outputs": [
    {
     "name": "stdout",
     "output_type": "stream",
     "text": [
      "True\n",
      "True\n",
      "True\n",
      "True\n",
      "True\n",
      "True\n",
      "True\n",
      "True\n",
      "True\n",
      "True\n",
      "False\n",
      "False\n",
      "False\n",
      "False\n"
     ]
    }
   ],
   "source": [
    "print(is_vowel_re(\"a\"))\n",
    "print(is_vowel_re(\"e\"))\n",
    "print(is_vowel_re(\"i\"))\n",
    "print(is_vowel_re(\"o\"))\n",
    "print(is_vowel_re(\"u\"))\n",
    "print(is_vowel_re(\"A\"))\n",
    "print(is_vowel_re(\"E\"))\n",
    "print(is_vowel_re(\"I\"))\n",
    "print(is_vowel_re(\"O\"))\n",
    "print(is_vowel_re(\"U\"))\n",
    "print(is_vowel_re(\"mango\"))\n",
    "print(is_vowel_re(\"Q\"))\n",
    "print(is_vowel_re(\"aei\"))\n",
    "print(is_vowel_re(\"IOU\"))"
   ]
  },
  {
   "cell_type": "markdown",
   "id": "c464fc42",
   "metadata": {},
   "source": [
    "### 3. Define a function named is_consonant. It should return True if the passed string is a consonant, False otherwise. Use your is_vowel function to accomplish this."
   ]
  },
  {
   "cell_type": "code",
   "execution_count": 138,
   "id": "9b067708",
   "metadata": {},
   "outputs": [],
   "source": [
    "def is_consonant(var):   \n",
    "    if is_vowel(var) == False and len(var) == 1:\n",
    "        return True\n",
    "    else:\n",
    "            return False"
   ]
  },
  {
   "cell_type": "code",
   "execution_count": 140,
   "id": "27d20d54",
   "metadata": {},
   "outputs": [
    {
     "name": "stdout",
     "output_type": "stream",
     "text": [
      "False\n",
      "False\n",
      "False\n",
      "False\n",
      "False\n",
      "False\n",
      "False\n",
      "False\n",
      "False\n",
      "False\n",
      "False\n",
      "True\n",
      "False\n",
      "False\n"
     ]
    }
   ],
   "source": [
    "print(is_consonant(\"a\"))\n",
    "print(is_consonant(\"e\"))\n",
    "print(is_consonant(\"i\"))\n",
    "print(is_consonant(\"o\"))\n",
    "print(is_consonant(\"u\"))\n",
    "print(is_consonant(\"A\"))\n",
    "print(is_consonant(\"E\"))\n",
    "print(is_consonant(\"I\"))\n",
    "print(is_consonant(\"O\"))\n",
    "print(is_consonant(\"U\"))\n",
    "print(is_consonant(\"mango\"))\n",
    "print(is_consonant(\"Q\"))\n",
    "print(is_consonant(\"aei\"))\n",
    "print(is_consonant(\"IOU\"))"
   ]
  },
  {
   "cell_type": "markdown",
   "id": "be167186",
   "metadata": {},
   "source": [
    "### 4. Define a function that accepts a string that is a word. The function should capitalize the first letter of the word if the word starts with a consonant."
   ]
  },
  {
   "cell_type": "code",
   "execution_count": 354,
   "id": "2f649ff1",
   "metadata": {},
   "outputs": [
    {
     "name": "stdout",
     "output_type": "stream",
     "text": [
      "Python\n",
      "apple\n"
     ]
    }
   ],
   "source": [
    "def word_title(var):\n",
    "    if var[0] not in 'AEIOUaeiou':\n",
    "        return var.capitalize()\n",
    "    else:\n",
    "        return var\n",
    "\n",
    "print(word_title(\"python\"))\n",
    "print(word_title(\"apple\"))"
   ]
  },
  {
   "cell_type": "markdown",
   "id": "a04bdc16",
   "metadata": {},
   "source": [
    "### 5. Define a function named calculate_tip. It should accept a tip percentage (a number between 0 and 1) and the bill total, and return the amount to tip."
   ]
  },
  {
   "cell_type": "code",
   "execution_count": 355,
   "id": "9af7e438",
   "metadata": {},
   "outputs": [
    {
     "name": "stdout",
     "output_type": "stream",
     "text": [
      "$0\n",
      "$10.0\n"
     ]
    }
   ],
   "source": [
    "def calculate_tip(tip_percentage, bill_total):\n",
    "    \n",
    "#     if tip_percent < 0 or tip_percent > 1:\n",
    "#         print('Enter correct tip percentage between 0 and 1')\n",
    "    \n",
    "    if tip_percentage == 0:\n",
    "        return f\"$0\"\n",
    "    else:\n",
    "        return f\"${tip_percentage*bill_total}\"\n",
    "\n",
    "print(calculate_tip(0, 100))\n",
    "print(calculate_tip(.1, 100))"
   ]
  },
  {
   "cell_type": "markdown",
   "id": "82d1daf4",
   "metadata": {},
   "source": [
    "### 6. Define a function named apply_discount. It should accept a original price, and a discount percentage, and return the price after the discount is applied."
   ]
  },
  {
   "cell_type": "code",
   "execution_count": 356,
   "id": "3606282a",
   "metadata": {},
   "outputs": [
    {
     "name": "stdout",
     "output_type": "stream",
     "text": [
      "$960,000.00\n"
     ]
    }
   ],
   "source": [
    "def apply_discount(original_price, discount_percentage):\n",
    "    return f\"${original_price * (1 - discount_percentage):,.2f}\"\n",
    "\n",
    "print(apply_discount(1_200_000, .2))"
   ]
  },
  {
   "cell_type": "markdown",
   "id": "a0b7d87a",
   "metadata": {},
   "source": [
    "### 7. Define a function named handle_commas. It should accept a string that is a number that contains commas in it as input, and return a number as output."
   ]
  },
  {
   "cell_type": "code",
   "execution_count": 357,
   "id": "1611c3b2",
   "metadata": {},
   "outputs": [
    {
     "name": "stdout",
     "output_type": "stream",
     "text": [
      "1000\n"
     ]
    }
   ],
   "source": [
    "def handle_commas(var):\n",
    "    new_number = \"\"\n",
    "    for digit in number:\n",
    "        if digit.isdigit() == True:\n",
    "            new_number += digit\n",
    "    return new_number\n",
    "\n",
    "print(handle_commas('1,000'))"
   ]
  },
  {
   "cell_type": "markdown",
   "id": "17f097f1",
   "metadata": {},
   "source": [
    "### 7. another method"
   ]
  },
  {
   "cell_type": "code",
   "execution_count": 358,
   "id": "58aea9de",
   "metadata": {},
   "outputs": [
    {
     "name": "stdout",
     "output_type": "stream",
     "text": [
      "1000\n"
     ]
    }
   ],
   "source": [
    "def handle_commas_method2(var):\n",
    "    n_append = []\n",
    "    new_number = []\n",
    "    for digit in number:\n",
    "        if digit.isdigit() == True:\n",
    "            n_append.append(digit)\n",
    "            new_number = ''.join(n_append)\n",
    "    return new_number\n",
    "\n",
    "print(handle_commas_method2('1,000'))"
   ]
  },
  {
   "cell_type": "markdown",
   "id": "2406dc4a",
   "metadata": {},
   "source": [
    "### 8. Define a function named get_letter_grade. It should accept a number and return the letter grade associated with that number (A-F)."
   ]
  },
  {
   "cell_type": "code",
   "execution_count": 236,
   "id": "3c496578",
   "metadata": {},
   "outputs": [],
   "source": [
    "def get_letter_grade(grade):\n",
    "    if grade >= 90:\n",
    "        return 'A'\n",
    "    if grade >= 80:\n",
    "        return 'B'\n",
    "    if grade >= 70:\n",
    "        return 'C'\n",
    "    if grade >= 60:\n",
    "        return 'D'\n",
    "    else:\n",
    "        return 'F'"
   ]
  },
  {
   "cell_type": "code",
   "execution_count": 237,
   "id": "0087e723",
   "metadata": {},
   "outputs": [
    {
     "name": "stdout",
     "output_type": "stream",
     "text": [
      "A\n",
      "B\n",
      "C\n",
      "D\n",
      "F\n"
     ]
    }
   ],
   "source": [
    "print(get_letter_grade(99))\n",
    "print(get_letter_grade(80))\n",
    "print(get_letter_grade(76))\n",
    "print(get_letter_grade(69.9))\n",
    "print(get_letter_grade(44))"
   ]
  },
  {
   "cell_type": "markdown",
   "id": "2cf67e08",
   "metadata": {},
   "source": [
    "### 9. Define a function named remove_vowels that accepts a string and returns a string with all the vowels removed."
   ]
  },
  {
   "cell_type": "code",
   "execution_count": 359,
   "id": "2520ca53",
   "metadata": {},
   "outputs": [
    {
     "name": "stdout",
     "output_type": "stream",
     "text": [
      "Mng\n"
     ]
    }
   ],
   "source": [
    "def remove_vowels(var):\n",
    "    new_var = \"\"\n",
    "    for letter in var:\n",
    "        if is_vowel(letter) == False:\n",
    "            new_var += letter\n",
    "    return new_var\n",
    "\n",
    "print(remove_vowels('Mango'))"
   ]
  },
  {
   "cell_type": "markdown",
   "id": "fa00dad6",
   "metadata": {},
   "source": [
    "### 10. Define a function named normalize_name. It should accept a string and return a valid python identifier, that is:\n",
    "\n",
    "- anything that is not a valid python identifier should be removed\n",
    "- leading and trailing whitespace should be removed\n",
    "- everything should be lowercase\n",
    "- spaces should be replaced with underscores\n",
    "- for example:\n",
    "- Name will become name\n",
    "- First Name will become first_name\n",
    "- % Completed will become completed"
   ]
  },
  {
   "cell_type": "code",
   "execution_count": 352,
   "id": "ba9e2eb1",
   "metadata": {
    "scrolled": true
   },
   "outputs": [
    {
     "data": {
      "text/plain": [
       "'tex_usa'"
      ]
     },
     "execution_count": 352,
     "metadata": {},
     "output_type": "execute_result"
    }
   ],
   "source": [
    "def normalize_name(original_string):\n",
    "    normal_string = ''\n",
    "    special_characters = ['@','#','$','*','&', '%', '^']\n",
    "\n",
    "    for letter in special_characters:\n",
    "        original_string = original_string.replace(letter,'')\n",
    "\n",
    "    temp_var = original_string.strip().lower().split()\n",
    "\n",
    "    for word in temp_var:\n",
    "        normal_string += word + '_'\n",
    "    normal_string = normal_string[:-1]\n",
    "\n",
    "    return normal_string\n",
    "\n",
    "normalize_name('     %   Tex  USA')"
   ]
  },
  {
   "cell_type": "code",
   "execution_count": null,
   "id": "3c69d824",
   "metadata": {},
   "outputs": [],
   "source": [
    "### 10. method using .isalnum "
   ]
  },
  {
   "cell_type": "code",
   "execution_count": 353,
   "id": "2b7e4a17",
   "metadata": {},
   "outputs": [
    {
     "data": {
      "text/plain": [
       "'texusa'"
      ]
     },
     "execution_count": 353,
     "metadata": {},
     "output_type": "execute_result"
    }
   ],
   "source": [
    "def normalize_name(original_string):\n",
    "    normal_string = \"\".join(char for char in original_string if char.isalnum())\n",
    "    normal_string = normal_string.lower()\n",
    "    return normal_string\n",
    "\n",
    "normalize_name('     %   Tex  USA')"
   ]
  },
  {
   "cell_type": "markdown",
   "id": "c6992a4a",
   "metadata": {},
   "source": [
    "### 11. Write a function named cumulative_sum that accepts a list of numbers and returns a list that is the cumulative sum of the numbers in the list.\n",
    "- cumulative_sum([1, 1, 1]) returns [1, 2, 3]\n",
    "- cumulative_sum([1, 2, 3, 4]) returns [1, 3, 6, 10]\n"
   ]
  },
  {
   "cell_type": "code",
   "execution_count": null,
   "id": "6663eca4",
   "metadata": {},
   "outputs": [],
   "source": [
    "def cumulative_sum():\n",
    "    "
   ]
  },
  {
   "cell_type": "markdown",
   "id": "f1488327",
   "metadata": {},
   "source": [
    "### Bonus 1.a.\n",
    "Create a function named twelveto24. It should accept a string in the format 10:45am or 4:30pm and return a string that is the representation of the time in a 24-hour format."
   ]
  },
  {
   "cell_type": "code",
   "execution_count": null,
   "id": "6a28d1a8",
   "metadata": {},
   "outputs": [],
   "source": [
    "def twelveto24():\n",
    "    "
   ]
  },
  {
   "cell_type": "markdown",
   "id": "d98830e4",
   "metadata": {},
   "source": [
    "### Bonus 1.a.\n",
    "\n",
    "Bonus write a function that does the opposite."
   ]
  },
  {
   "cell_type": "code",
   "execution_count": null,
   "id": "33b2f29d",
   "metadata": {},
   "outputs": [],
   "source": [
    "def twelveto24_opposite():\n",
    "    "
   ]
  },
  {
   "cell_type": "markdown",
   "id": "d07beb23",
   "metadata": {},
   "source": [
    "### Bonus 2."
   ]
  },
  {
   "cell_type": "markdown",
   "id": "454bc531",
   "metadata": {},
   "source": [
    "Create a function named col_index. It should accept a spreadsheet column name, and return the index number of the column.\n",
    "- col_index('A') returns 1\n",
    "- col_index('B') returns 2\n",
    "- col_index('AA') returns 27"
   ]
  },
  {
   "cell_type": "code",
   "execution_count": null,
   "id": "74eac259",
   "metadata": {},
   "outputs": [],
   "source": [
    "def col_index():\n",
    "    "
   ]
  },
  {
   "cell_type": "markdown",
   "id": "ab73a9f6",
   "metadata": {},
   "source": [
    "### additional exercises (before bonus questions)\n",
    "Once you've completed the above exercises, follow the directions from https://gist.github.com/zgulde/ec8ed80ad8216905cda83d5645c60886 in order to thouroughly comment your code to explain your code."
   ]
  }
 ],
 "metadata": {
  "kernelspec": {
   "display_name": "Python 3 (ipykernel)",
   "language": "python",
   "name": "python3"
  },
  "language_info": {
   "codemirror_mode": {
    "name": "ipython",
    "version": 3
   },
   "file_extension": ".py",
   "mimetype": "text/x-python",
   "name": "python",
   "nbconvert_exporter": "python",
   "pygments_lexer": "ipython3",
   "version": "3.9.13"
  }
 },
 "nbformat": 4,
 "nbformat_minor": 5
}
