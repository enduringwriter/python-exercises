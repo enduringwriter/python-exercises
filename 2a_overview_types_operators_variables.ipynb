{
 "cells": [
  {
   "cell_type": "markdown",
   "id": "bf01fbf3",
   "metadata": {},
   "source": [
    "## Python Exercise: 3a_overview_types_operators_variables\n",
    "\n",
    "## Keith Stateson "
   ]
  },
  {
   "cell_type": "markdown",
   "id": "86b6853e",
   "metadata": {},
   "source": [
    "### 1. Identify data types"
   ]
  },
  {
   "cell_type": "code",
   "execution_count": 10,
   "id": "9df9b510",
   "metadata": {},
   "outputs": [
    {
     "data": {
      "text/plain": [
       "float"
      ]
     },
     "execution_count": 10,
     "metadata": {},
     "output_type": "execute_result"
    }
   ],
   "source": [
    "type(99.9)"
   ]
  },
  {
   "cell_type": "code",
   "execution_count": 11,
   "id": "421902f9",
   "metadata": {},
   "outputs": [
    {
     "data": {
      "text/plain": [
       "str"
      ]
     },
     "execution_count": 11,
     "metadata": {},
     "output_type": "execute_result"
    }
   ],
   "source": [
    "type(\"False\")"
   ]
  },
  {
   "cell_type": "code",
   "execution_count": 12,
   "id": "4a5532c6",
   "metadata": {},
   "outputs": [
    {
     "data": {
      "text/plain": [
       "bool"
      ]
     },
     "execution_count": 12,
     "metadata": {},
     "output_type": "execute_result"
    }
   ],
   "source": [
    "type(False)"
   ]
  },
  {
   "cell_type": "code",
   "execution_count": 13,
   "id": "465323e9",
   "metadata": {},
   "outputs": [
    {
     "data": {
      "text/plain": [
       "str"
      ]
     },
     "execution_count": 13,
     "metadata": {},
     "output_type": "execute_result"
    }
   ],
   "source": [
    "type('0')"
   ]
  },
  {
   "cell_type": "code",
   "execution_count": 14,
   "id": "0c187145",
   "metadata": {},
   "outputs": [
    {
     "data": {
      "text/plain": [
       "int"
      ]
     },
     "execution_count": 14,
     "metadata": {},
     "output_type": "execute_result"
    }
   ],
   "source": [
    "type(0)"
   ]
  },
  {
   "cell_type": "code",
   "execution_count": 15,
   "id": "3e6172d7",
   "metadata": {},
   "outputs": [
    {
     "data": {
      "text/plain": [
       "bool"
      ]
     },
     "execution_count": 15,
     "metadata": {},
     "output_type": "execute_result"
    }
   ],
   "source": [
    "type(True)"
   ]
  },
  {
   "cell_type": "code",
   "execution_count": 16,
   "id": "30341d71",
   "metadata": {},
   "outputs": [
    {
     "data": {
      "text/plain": [
       "list"
      ]
     },
     "execution_count": 16,
     "metadata": {},
     "output_type": "execute_result"
    }
   ],
   "source": [
    "type([{}])"
   ]
  },
  {
   "cell_type": "code",
   "execution_count": 17,
   "id": "3d78fe63",
   "metadata": {},
   "outputs": [
    {
     "data": {
      "text/plain": [
       "dict"
      ]
     },
     "execution_count": 17,
     "metadata": {},
     "output_type": "execute_result"
    }
   ],
   "source": [
    "type({'a':[]})"
   ]
  },
  {
   "cell_type": "markdown",
   "id": "b4da77ca",
   "metadata": {},
   "source": [
    "### 2. What data type would best represent the following?"
   ]
  },
  {
   "cell_type": "code",
   "execution_count": null,
   "id": "fe4a2e51",
   "metadata": {},
   "outputs": [],
   "source": [
    "# A term or phrase typed into a search box\n",
    "\n",
    "# string, string mixed with numbers"
   ]
  },
  {
   "cell_type": "code",
   "execution_count": null,
   "id": "3a5c5c21",
   "metadata": {},
   "outputs": [],
   "source": [
    "# Whether or not a user is logged in\n",
    "\n",
    "# boolean and list"
   ]
  },
  {
   "cell_type": "code",
   "execution_count": null,
   "id": "3ce4ddb1",
   "metadata": {},
   "outputs": [],
   "source": [
    "# A discount amount to apply to a user's shopping cart\n",
    "\n",
    "# integer or float"
   ]
  },
  {
   "cell_type": "code",
   "execution_count": null,
   "id": "3de4e276",
   "metadata": {},
   "outputs": [],
   "source": [
    "# Whether or not a coupon code is valid\n",
    "\n",
    "# integer and boolean"
   ]
  },
  {
   "cell_type": "code",
   "execution_count": null,
   "id": "d5d03e34",
   "metadata": {},
   "outputs": [],
   "source": [
    "# An email address typed into a registration form\n",
    "\n",
    "# string"
   ]
  },
  {
   "cell_type": "code",
   "execution_count": null,
   "id": "8c2cdfc4",
   "metadata": {},
   "outputs": [],
   "source": [
    "# The price of a product\n",
    "\n",
    "# integer or float"
   ]
  },
  {
   "cell_type": "code",
   "execution_count": null,
   "id": "62533f99",
   "metadata": {},
   "outputs": [],
   "source": [
    "# The email addresses collected from a registration form\n",
    "\n",
    "# string"
   ]
  },
  {
   "cell_type": "code",
   "execution_count": null,
   "id": "d95ae61f",
   "metadata": {},
   "outputs": [],
   "source": [
    "# Information about applicants to Codeup's data science program\n",
    "\n",
    "# dictionary list"
   ]
  },
  {
   "cell_type": "markdown",
   "id": "c2b41fd7",
   "metadata": {},
   "source": [
    "### 3. Predict evaluated results and execute the expression in Python REPL"
   ]
  },
  {
   "cell_type": "code",
   "execution_count": null,
   "id": "6b75122c",
   "metadata": {},
   "outputs": [],
   "source": [
    "'1' + 2  # error string + integer -- (my prediction)\n",
    "# TypeError: can only concatenate str (not \"int\") to str -- (answer in REPL terminal using pyton - i file_name.py)\n",
    "\n",
    "6 % 4  # 2\n",
    "#2\n",
    "\n",
    "type(6 % 4)  # integer\n",
    "# class int\n",
    "\n",
    "type(type(6 % 4))  # class\n",
    "# class type\n",
    "\n",
    "'3 + 4 is ' + 3 + 4  # error string + integer\n",
    "# TypeError: can only concatenate str (not \"int\") to str\n",
    "\n",
    "0 < 0  # error\n",
    "# False\n",
    "\n",
    "\n",
    "'False' == False  # False\n",
    "# False\n",
    "\n",
    "True == 'True'  # False\n",
    "# False\n",
    "\n",
    "5 >= -5  # True\n",
    "# True\n",
    "\n",
    "True or \"42\"  # True\n",
    "# True\n",
    "\n",
    "6 % 5  # 1\n",
    "# 1\n",
    "\n",
    "5 < 4 and 1 == 1  # False\n",
    "# False\n",
    "\n",
    "'codeup' == 'codeup' and 'codeup' == 'Codeup'  # False\n",
    "# False\n",
    "\n",
    "4 >= 0 and 1 !== '1'  # True\n",
    "# SyntaxError: invalid syntax\n",
    "\n",
    "6 % 3 == 0  # True\n",
    "# True\n",
    "\n",
    "5 % 2 != 0  # True\n",
    "# True\n",
    "\n",
    "[1] + 2  # error\n",
    "# TypeError: can only concatenate list (not \"int\") to list\n",
    "\n",
    "[1] + [2]  # [1, 2]\n",
    "# [1, 2]\n",
    "\n",
    "[1] * 2  # [2]\n",
    "# [1, 1]\n",
    "\n",
    "[1] * [2]  #  error\n",
    "# TypeError: can't multiply sequence by non-int of type 'list'\n",
    "\n",
    "[] + [] == []  # True\n",
    "# True\n",
    "\n",
    "{} + {}  # {}\n",
    "# TypeError: unsupported operand type(s) for +: 'dict' and 'dict'"
   ]
  }
 ],
 "metadata": {
  "kernelspec": {
   "display_name": "Python 3 (ipykernel)",
   "language": "python",
   "name": "python3"
  },
  "language_info": {
   "codemirror_mode": {
    "name": "ipython",
    "version": 3
   },
   "file_extension": ".py",
   "mimetype": "text/x-python",
   "name": "python",
   "nbconvert_exporter": "python",
   "pygments_lexer": "ipython3",
   "version": "3.9.13"
  }
 },
 "nbformat": 4,
 "nbformat_minor": 5
}
