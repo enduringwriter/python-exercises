{
 "cells": [
  {
   "cell_type": "markdown",
   "id": "ea221d4b",
   "metadata": {},
   "source": [
    "## Python Exercise: 3b_data_types_and_variables\n",
    "\n",
    "## Keith Stateson "
   ]
  },
  {
   "cell_type": "markdown",
   "id": "ca0bed80",
   "metadata": {},
   "source": [
    "### 5. Movie Rental"
   ]
  },
  {
   "cell_type": "code",
   "execution_count": null,
   "id": "8ff192f7",
   "metadata": {},
   "outputs": [],
   "source": [
    "dict = [{\n",
    "    little_mermaid\":3}, {\"brother_bear\":5}]"
   ]
  },
  {
   "cell_type": "markdown",
   "id": "f5ecce6f",
   "metadata": {},
   "source": [
    "### 6. Weekly Pay"
   ]
  },
  {
   "cell_type": "code",
   "execution_count": null,
   "id": "5ebdc046",
   "metadata": {},
   "outputs": [],
   "source": []
  },
  {
   "cell_type": "markdown",
   "id": "d229aca9",
   "metadata": {},
   "source": [
    "### 7. Student Enrollment and Class Schedule"
   ]
  },
  {
   "cell_type": "code",
   "execution_count": null,
   "id": "1feee95b",
   "metadata": {},
   "outputs": [],
   "source": []
  },
  {
   "cell_type": "markdown",
   "id": "9e886f1d",
   "metadata": {},
   "source": [
    "### 8. Product Offer Exclusivity"
   ]
  },
  {
   "cell_type": "code",
   "execution_count": null,
   "id": "733ad127",
   "metadata": {},
   "outputs": [],
   "source": []
  },
  {
   "cell_type": "markdown",
   "id": "b0013bd9",
   "metadata": {},
   "source": [
    "### 9. Boolean Condition"
   ]
  },
  {
   "cell_type": "code",
   "execution_count": null,
   "id": "094b2937",
   "metadata": {},
   "outputs": [],
   "source": []
  }
 ],
 "metadata": {
  "kernelspec": {
   "display_name": "Python 3 (ipykernel)",
   "language": "python",
   "name": "python3"
  },
  "language_info": {
   "codemirror_mode": {
    "name": "ipython",
    "version": 3
   },
   "file_extension": ".py",
   "mimetype": "text/x-python",
   "name": "python",
   "nbconvert_exporter": "python",
   "pygments_lexer": "ipython3",
   "version": "3.9.13"
  }
 },
 "nbformat": 4,
 "nbformat_minor": 5
}
