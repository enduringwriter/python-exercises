{
 "cells": [
  {
   "cell_type": "markdown",
   "id": "77494154-2290-4be4-a9d1-2a45852e2304",
   "metadata": {},
   "source": [
    "## Python Exercise: functions\n",
    "\n",
    "## Keith Stateson"
   ]
  },
  {
   "cell_type": "markdown",
   "id": "0ef13aa9-84f0-450e-a55b-34d2308a74a9",
   "metadata": {},
   "source": [
    "## 1. Import and test 3 of the functions from your functions exercise file. Import each function in a different way:"
   ]
  },
  {
   "cell_type": "markdown",
   "id": "c347a66f",
   "metadata": {},
   "source": [
    "### 1.a. Run an interactive python session and import the module. Call the is_vowel function using the . syntax."
   ]
  },
  {
   "cell_type": "code",
   "execution_count": 13,
   "id": "f03ceb69",
   "metadata": {
    "scrolled": true
   },
   "outputs": [
    {
     "name": "stdout",
     "output_type": "stream",
     "text": [
      "Help on module a4_functions_exercises:\n",
      "\n",
      "NAME\n",
      "    a4_functions_exercises\n",
      "\n",
      "DESCRIPTION\n",
      "    Python Exercises: functions - see note below\n",
      "    Keith Stateson\n",
      "    \n",
      "    Note: this py file is for import use only for the next exercise - imports.\n",
      "    The full exercise is found in the .ipynb jupyter notebook/jupyter lab, as python doesn't import jupyter files\n",
      "\n",
      "FUNCTIONS\n",
      "    calculate_tip(tip_percentage, bill_total)\n",
      "    \n",
      "    get_letter_grade(grade)\n",
      "    \n",
      "    is_vowel(var)\n",
      "\n",
      "FILE\n",
      "    /Users/keithstateson/github_codeup_ds_projects/python_exercises/a4_functions_exercises.py\n",
      "\n",
      "\n"
     ]
    }
   ],
   "source": [
    "import a4_functions_exercises\n",
    "\n",
    "help(a4_functions_exercises)"
   ]
  },
  {
   "cell_type": "code",
   "execution_count": 14,
   "id": "6ec2879f",
   "metadata": {},
   "outputs": [
    {
     "data": {
      "text/plain": [
       "True"
      ]
     },
     "execution_count": 14,
     "metadata": {},
     "output_type": "execute_result"
    }
   ],
   "source": [
    "a4_functions_exercises.is_vowel('a')"
   ]
  },
  {
   "cell_type": "markdown",
   "id": "19216713",
   "metadata": {},
   "source": [
    "### 1.b. Use from to import the calculate_tip function directly. Call this function with values you choose and print the result."
   ]
  },
  {
   "cell_type": "code",
   "execution_count": 15,
   "id": "0ec6fbd7",
   "metadata": {
    "scrolled": true
   },
   "outputs": [
    {
     "name": "stdout",
     "output_type": "stream",
     "text": [
      "Help on function calculate_tip in module a4_functions_exercises:\n",
      "\n",
      "calculate_tip(tip_percentage, bill_total)\n",
      "\n"
     ]
    }
   ],
   "source": [
    "from a4_functions_exercises import calculate_tip\n",
    "\n",
    "help(calculate_tip)"
   ]
  },
  {
   "cell_type": "code",
   "execution_count": 16,
   "id": "a6b11c2d",
   "metadata": {},
   "outputs": [
    {
     "data": {
      "text/plain": [
       "'$3.00'"
      ]
     },
     "execution_count": 16,
     "metadata": {},
     "output_type": "execute_result"
    }
   ],
   "source": [
    "calculate_tip(.15, 20)"
   ]
  },
  {
   "cell_type": "markdown",
   "id": "2a9db741",
   "metadata": {},
   "source": [
    "### 1.c. Create a jupyter notebook named import_exercises.ipynb. Use from to import the get_letter_grade function and give it an alias. Test this function in your notebook."
   ]
  },
  {
   "cell_type": "code",
   "execution_count": null,
   "id": "a62e8ba2",
   "metadata": {},
   "outputs": [],
   "source": []
  },
  {
   "cell_type": "markdown",
   "id": "c49dd4e2",
   "metadata": {},
   "source": [
    "## 2. Read about and use the itertools module from the python standard library to help you solve the following problems:"
   ]
  },
  {
   "cell_type": "markdown",
   "id": "a5bb1124",
   "metadata": {},
   "source": [
    "### 2.a. How many different ways can you combine a single letter from \"abc\" with either 1, 2, or 3?"
   ]
  },
  {
   "cell_type": "code",
   "execution_count": null,
   "id": "45cb418c",
   "metadata": {},
   "outputs": [],
   "source": []
  },
  {
   "cell_type": "markdown",
   "id": "fd67275d",
   "metadata": {},
   "source": [
    "### 2.b. How many different combinations are there of 2 letters from \"abcd\"?"
   ]
  },
  {
   "cell_type": "code",
   "execution_count": null,
   "id": "f704f3bf",
   "metadata": {},
   "outputs": [],
   "source": []
  },
  {
   "cell_type": "markdown",
   "id": "c751d2ce",
   "metadata": {},
   "source": [
    "### 2.c. How many different permutations are there of 2 letters from \"abcd\"?"
   ]
  },
  {
   "cell_type": "code",
   "execution_count": null,
   "id": "82a2a2cf",
   "metadata": {},
   "outputs": [],
   "source": []
  },
  {
   "cell_type": "markdown",
   "id": "2bb17018",
   "metadata": {},
   "source": [
    "## 3. Save this file as profiles.json inside of your exercises directory (right click -> save file as...). Use the load function from the json module to open this file.\n",
    "\n",
    "- import json\n",
    "- json.load(open('profiles.json'))\n",
    "\n",
    "### Your code should produce a list of dictionaries. Using this data, write some code that calculates and outputs the following information:\n",
    "\n",
    "- Total number of users\n",
    "- Number of active users\n",
    "- Number of inactive users\n",
    "- Grand total of balances for all users\n",
    "- Average balance per user\n",
    "- User with the lowest balance\n",
    "- User with the highest balance\n",
    "- Most common favorite fruit\n",
    "- Least most common favorite fruit\n",
    "- Total number of unread messages for all users"
   ]
  },
  {
   "cell_type": "code",
   "execution_count": null,
   "id": "48ee375f",
   "metadata": {},
   "outputs": [],
   "source": []
  }
 ],
 "metadata": {
  "kernelspec": {
   "display_name": "Python 3 (ipykernel)",
   "language": "python",
   "name": "python3"
  },
  "language_info": {
   "codemirror_mode": {
    "name": "ipython",
    "version": 3
   },
   "file_extension": ".py",
   "mimetype": "text/x-python",
   "name": "python",
   "nbconvert_exporter": "python",
   "pygments_lexer": "ipython3",
   "version": "3.9.13"
  }
 },
 "nbformat": 4,
 "nbformat_minor": 5
}
