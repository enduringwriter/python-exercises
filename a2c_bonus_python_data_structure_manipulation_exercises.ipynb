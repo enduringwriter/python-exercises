{
 "cells": [
  {
   "cell_type": "code",
   "execution_count": null,
   "id": "690fd8d0",
   "metadata": {},
   "outputs": [],
   "source": [
    "# https://gist.github.com/zgulde/2043cba6072fe5b55b272513ae575577\n",
    "\n",
    "# 20 Python Data Structure Manipulation Exercises\n",
    "\n",
    "The following questions reference the `students` data structure below. Write\n",
    "the python code to answer the following questions:\n",
    "\n",
    "1. How many students are there?\n",
    "1. How many students prefer light coffee? For each type of coffee roast?\n",
    "1. How many types of each pet are there?\n",
    "1. How many grades does each student have? Do they all have the same number of\n",
    "grades?\n",
    "1. What is each student's grade average?\n",
    "1. How many pets does each student have?\n",
    "1. How many students are in web development? data science?\n",
    "1. What is the average number of pets for students in web development?\n",
    "1. What is the average pet age for students in data science?\n",
    "1. What is most frequent coffee preference for data science students?\n",
    "1. What is the least frequent coffee preference for web development students?\n",
    "1. What is the average grade for students with at least 2 pets?\n",
    "1. How many students have 3 pets?\n",
    "1. What is the average grade for students with 0 pets?\n",
    "1. What is the average grade for web development students? data science\n",
    "students?\n",
    "1. What is the average grade range (i.e. highest grade - lowest grade) for\n",
    "dark coffee drinkers?\n",
    "1. What is the average number of pets for medium coffee drinkers?\n",
    "1. What is the most common type of pet for web development students?\n",
    "1. What is the average name length?\n",
    "1. What is the highest pet age for light coffee drinkers?\n"
   ]
  },
  {
   "cell_type": "code",
   "execution_count": null,
   "id": "ba617351",
   "metadata": {},
   "outputs": [],
   "source": []
  }
 ],
 "metadata": {
  "kernelspec": {
   "display_name": "Python 3 (ipykernel)",
   "language": "python",
   "name": "python3"
  },
  "language_info": {
   "codemirror_mode": {
    "name": "ipython",
    "version": 3
   },
   "file_extension": ".py",
   "mimetype": "text/x-python",
   "name": "python",
   "nbconvert_exporter": "python",
   "pygments_lexer": "ipython3",
   "version": "3.9.13"
  }
 },
 "nbformat": 4,
 "nbformat_minor": 5
}
