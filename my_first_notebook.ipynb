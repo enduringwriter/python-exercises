{
 "cells": [
  {
   "cell_type": "markdown",
   "id": "12babdea",
   "metadata": {},
   "source": [
    "## Python Exercise: my_first_notebook\n",
    "\n",
    "## Keith Stateson\n"
   ]
  },
  {
   "cell_type": "markdown",
   "id": "c492c19a",
   "metadata": {},
   "source": [
    "### Loop and Enumerate"
   ]
  },
  {
   "cell_type": "code",
   "execution_count": 20,
   "id": "c3efed78",
   "metadata": {},
   "outputs": [
    {
     "name": "stdout",
     "output_type": "stream",
     "text": [
      "items [(0, 'banana'), (1, 'apple'), (2, 'kiwi')]\n",
      "(2, 'kiwi')\n"
     ]
    }
   ],
   "source": [
    "items = ['banana', 'apple', 'kiwi']\n",
    "items_list = []\n",
    "\n",
    "for i, item in enumerate (items):\n",
    "#     print(i, item)\n",
    "    x = (i, item)\n",
    "    items_list.append(x)\n",
    "    \n",
    "print(\"items\", items_list)\n",
    "print(items_list[2])"
   ]
  },
  {
   "cell_type": "markdown",
   "id": "c040ab43",
   "metadata": {},
   "source": [
    "### Enumerate - quicker method and can change data structure, but can't use index [ ]"
   ]
  },
  {
   "cell_type": "code",
   "execution_count": 29,
   "id": "b9b773c5",
   "metadata": {},
   "outputs": [
    {
     "name": "stdout",
     "output_type": "stream",
     "text": [
      "list: [(0, 'banana'), (1, 'apple'), (2, 'kiwi')]\n",
      "<enumerate object at 0x11211de80>\n",
      "data type:  <class 'enumerate'>\n",
      "dict: {0: 'banana', 1: 'apple', 2: 'kiwi'}\n"
     ]
    },
    {
     "ename": "TypeError",
     "evalue": "'enumerate' object is not subscriptable",
     "output_type": "error",
     "traceback": [
      "\u001b[0;31m---------------------------------------------------------------------------\u001b[0m",
      "\u001b[0;31mTypeError\u001b[0m                                 Traceback (most recent call last)",
      "Input \u001b[0;32mIn [29]\u001b[0m, in \u001b[0;36m<cell line: 10>\u001b[0;34m()\u001b[0m\n\u001b[1;32m      7\u001b[0m \u001b[38;5;28mprint\u001b[39m(\u001b[38;5;124m\"\u001b[39m\u001b[38;5;124mdata type: \u001b[39m\u001b[38;5;124m\"\u001b[39m, \u001b[38;5;28mtype\u001b[39m(x))\n\u001b[1;32m      8\u001b[0m \u001b[38;5;28mprint\u001b[39m(\u001b[38;5;124m'\u001b[39m\u001b[38;5;124mdict:\u001b[39m\u001b[38;5;124m'\u001b[39m, \u001b[38;5;28mdict\u001b[39m(x))\n\u001b[0;32m---> 10\u001b[0m \u001b[38;5;28mprint\u001b[39m(\u001b[43mx\u001b[49m\u001b[43m[\u001b[49m\u001b[38;5;241;43m1\u001b[39;49m\u001b[43m]\u001b[49m)\n",
      "\u001b[0;31mTypeError\u001b[0m: 'enumerate' object is not subscriptable"
     ]
    }
   ],
   "source": [
    "items_2 = ['banana', 'apple', 'kiwi']\n",
    "\n",
    "print('list:', list(enumerate(items_2)))\n",
    "\n",
    "x = enumerate(items_2)\n",
    "print(x)\n",
    "print(\"data type: \", type(x))\n",
    "print('dict:', dict(x))\n",
    "\n",
    "print(x[1])  # can't use index [] class object; enumerate is not subscriptable\n"
   ]
  },
  {
   "cell_type": "markdown",
   "id": "f7e6d383",
   "metadata": {},
   "source": [
    "### Append \"mango\" to list and index the item with enumerate"
   ]
  },
  {
   "cell_type": "code",
   "execution_count": 23,
   "id": "643d686e",
   "metadata": {},
   "outputs": [
    {
     "name": "stdout",
     "output_type": "stream",
     "text": [
      "[(0, 'banana'), (1, 'apple'), (2, 'kiwi'), (3, 'mango')]\n"
     ]
    }
   ],
   "source": [
    "items_2.append('mango')\n",
    "\n",
    "y = enumerate(items_2)\n",
    "\n",
    "print(list(y))"
   ]
  },
  {
   "cell_type": "markdown",
   "id": "6b4ddab9",
   "metadata": {},
   "source": [
    "### Shortcuts in Juypter Notebook"
   ]
  },
  {
   "cell_type": "code",
   "execution_count": null,
   "id": "dd1d8418",
   "metadata": {},
   "outputs": [],
   "source": [
    "# Esc + H = keyboard shortcuts"
   ]
  },
  {
   "cell_type": "code",
   "execution_count": null,
   "id": "ff51c95c",
   "metadata": {},
   "outputs": [],
   "source": [
    "# a = adds a cell above, b = adds a cell below"
   ]
  },
  {
   "cell_type": "code",
   "execution_count": null,
   "id": "236ee2b6",
   "metadata": {},
   "outputs": [],
   "source": [
    "# Cmd + Enter = run the cell"
   ]
  }
 ],
 "metadata": {
  "kernelspec": {
   "display_name": "Python 3 (ipykernel)",
   "language": "python",
   "name": "python3"
  },
  "language_info": {
   "codemirror_mode": {
    "name": "ipython",
    "version": 3
   },
   "file_extension": ".py",
   "mimetype": "text/x-python",
   "name": "python",
   "nbconvert_exporter": "python",
   "pygments_lexer": "ipython3",
   "version": "3.9.13"
  }
 },
 "nbformat": 4,
 "nbformat_minor": 5
}
