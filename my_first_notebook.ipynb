{
 "cells": [
  {
   "cell_type": "markdown",
   "id": "f98dd38d",
   "metadata": {},
   "source": [
    "## Python Exercise: my_first_notebook\n",
    "\n",
    "## Keith Stateson\n"
   ]
  },
  {
   "cell_type": "markdown",
   "id": "0852dd0d",
   "metadata": {},
   "source": [
    "### Loop and Enumerate"
   ]
  },
  {
   "cell_type": "code",
   "execution_count": 2,
   "id": "1901eb0a",
   "metadata": {},
   "outputs": [
    {
     "name": "stdout",
     "output_type": "stream",
     "text": [
      "items [(0, 'banana'), (1, 'apple'), (2, 'kiwi')]\n"
     ]
    }
   ],
   "source": [
    "items = ['banana', 'apple', 'kiwi']\n",
    "items_list = []\n",
    "\n",
    "for i, item in enumerate (items):\n",
    "#     print(i, item)\n",
    "    x = (i, item)\n",
    "    items_list.append(x)\n",
    "    \n",
    "print(\"items\", items_list)"
   ]
  },
  {
   "cell_type": "markdown",
   "id": "589643c7",
   "metadata": {},
   "source": [
    "### Enumerate - quicker method"
   ]
  },
  {
   "cell_type": "code",
   "execution_count": 4,
   "id": "0a169fc6",
   "metadata": {},
   "outputs": [
    {
     "name": "stdout",
     "output_type": "stream",
     "text": [
      "list: [(0, 'banana'), (1, 'apple'), (2, 'kiwi')]\n",
      "<enumerate object at 0x107ebb200>\n",
      "dict: {0: 'banana', 1: 'apple', 2: 'kiwi'}\n"
     ]
    }
   ],
   "source": [
    "items_2 = ['banana', 'apple', 'kiwi']\n",
    "\n",
    "print('list:', list(enumerate(items_2)))\n",
    "\n",
    "x = enumerate(items_2)\n",
    "print(x)\n",
    "print('dict:', dict(x))"
   ]
  },
  {
   "cell_type": "code",
   "execution_count": null,
   "id": "0c3b46e5",
   "metadata": {},
   "outputs": [],
   "source": []
  },
  {
   "cell_type": "code",
   "execution_count": null,
   "id": "e1696048",
   "metadata": {},
   "outputs": [],
   "source": []
  },
  {
   "cell_type": "code",
   "execution_count": null,
   "id": "7be3d82f",
   "metadata": {},
   "outputs": [],
   "source": [
    "# Esc + H = keyboard shortcuts"
   ]
  },
  {
   "cell_type": "code",
   "execution_count": null,
   "id": "7272b78c",
   "metadata": {},
   "outputs": [],
   "source": [
    "# "
   ]
  },
  {
   "cell_type": "code",
   "execution_count": null,
   "id": "87453de4",
   "metadata": {},
   "outputs": [],
   "source": []
  }
 ],
 "metadata": {
  "kernelspec": {
   "display_name": "Python 3 (ipykernel)",
   "language": "python",
   "name": "python3"
  },
  "language_info": {
   "codemirror_mode": {
    "name": "ipython",
    "version": 3
   },
   "file_extension": ".py",
   "mimetype": "text/x-python",
   "name": "python",
   "nbconvert_exporter": "python",
   "pygments_lexer": "ipython3",
   "version": "3.9.13"
  }
 },
 "nbformat": 4,
 "nbformat_minor": 5
}
