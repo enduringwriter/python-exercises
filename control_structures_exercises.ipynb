{
 "cells": [
  {
   "cell_type": "markdown",
   "id": "e8682dc5",
   "metadata": {},
   "source": [
    "## Python Exercise: control_structures_exercises\n",
    "## Keith Stateson"
   ]
  },
  {
   "cell_type": "markdown",
   "id": "8c9c96e3",
   "metadata": {},
   "source": [
    "### 1. Conditional Basics"
   ]
  },
  {
   "cell_type": "code",
   "execution_count": 79,
   "id": "570b07b2",
   "metadata": {},
   "outputs": [
    {
     "name": "stdout",
     "output_type": "stream",
     "text": [
      "Enter the day of the week: Wednesday\n",
      "The day is not Monday\n"
     ]
    }
   ],
   "source": [
    "# 1.a. prompt the user for a day of the week, print out whether the day is Monday or not\n",
    "choice = input(\"Enter the day of the week: \")\n",
    "if choice == \"Monday\":\n",
    "    print(\"Correct, the day is Monday\")\n",
    "else:\n",
    "    print(\"The day is not Monday\")"
   ]
  },
  {
   "cell_type": "code",
   "execution_count": 2,
   "id": "6ffbbc67",
   "metadata": {},
   "outputs": [
    {
     "name": "stdout",
     "output_type": "stream",
     "text": [
      "Enter the day of the week: Sunday\n",
      "The day is a weekend!\n"
     ]
    }
   ],
   "source": [
    "# 1.b. prompt the user for a day of the week, print out whether the day is a weekday or a weekend\n",
    "choice = input(\"Enter the day of the week: \")\n",
    "week_days = ['Monday', 'Tuesday', 'Wednesday', 'Thursday', 'Friday']\n",
    "weekend_days = ['Saturday', 'Sunday']\n",
    "if choice in week_days:\n",
    "    print('The day is a week day!')\n",
    "else:\n",
    "    print('The day is a weekend!')"
   ]
  },
  {
   "cell_type": "code",
   "execution_count": 3,
   "id": "46d18dfd",
   "metadata": {},
   "outputs": [
    {
     "name": "stdout",
     "output_type": "stream",
     "text": [
      "Your weekly paycheck is: $2,817.50\n"
     ]
    }
   ],
   "source": [
    "# 1.c. Calculates the weekly paycheck. You get paid time and a half if you work more than 40 hours\n",
    "hours_worked = 90\n",
    "hourly_rate = 24.50\n",
    "if hours_worked > 40:\n",
    "    weekly_paycheck = 40 * hourly_rate + (hours_worked-40) * 1.5 * hourly_rate\n",
    "else:\n",
    "    weekly_paycheck = hours_worked * hourly_rate\n",
    "print(f\"Your weekly paycheck is: ${weekly_paycheck:,.2f}\")"
   ]
  },
  {
   "cell_type": "markdown",
   "id": "7a7125d6",
   "metadata": {},
   "source": [
    "### 2. Loop Basics"
   ]
  },
  {
   "cell_type": "markdown",
   "id": "de1c7c87",
   "metadata": {},
   "source": [
    "### 2.a While"
   ]
  },
  {
   "cell_type": "code",
   "execution_count": 5,
   "id": "9cedb0f1",
   "metadata": {},
   "outputs": [
    {
     "name": "stdout",
     "output_type": "stream",
     "text": [
      "5\n",
      "6\n",
      "7\n",
      "8\n",
      "9\n",
      "10\n",
      "11\n",
      "12\n",
      "13\n",
      "14\n",
      "15\n"
     ]
    }
   ],
   "source": [
    "i = 5\n",
    "while i <= 15:\n",
    "    print(i)\n",
    "    i += 1\n"
   ]
  },
  {
   "cell_type": "code",
   "execution_count": 8,
   "id": "6937748c",
   "metadata": {},
   "outputs": [
    {
     "name": "stdout",
     "output_type": "stream",
     "text": [
      "0\n",
      "2\n",
      "4\n",
      "6\n",
      "8\n",
      "10\n",
      "12\n",
      "14\n",
      "16\n",
      "18\n",
      "20\n",
      "22\n",
      "24\n",
      "26\n",
      "28\n",
      "30\n",
      "32\n",
      "34\n",
      "36\n",
      "38\n",
      "40\n",
      "42\n",
      "44\n",
      "46\n",
      "48\n",
      "50\n",
      "52\n",
      "54\n",
      "56\n",
      "58\n",
      "60\n",
      "62\n",
      "64\n",
      "66\n",
      "68\n",
      "70\n",
      "72\n",
      "74\n",
      "76\n",
      "78\n",
      "80\n",
      "82\n",
      "84\n",
      "86\n",
      "88\n",
      "90\n",
      "92\n",
      "94\n",
      "96\n",
      "98\n",
      "100\n"
     ]
    }
   ],
   "source": [
    "i = 0\n",
    "while i <= 100:\n",
    "    print(i)\n",
    "    i += 2"
   ]
  },
  {
   "cell_type": "code",
   "execution_count": 10,
   "id": "33c3162b",
   "metadata": {},
   "outputs": [
    {
     "name": "stdout",
     "output_type": "stream",
     "text": [
      "100\n",
      "95\n",
      "90\n",
      "85\n",
      "80\n",
      "75\n",
      "70\n",
      "65\n",
      "60\n",
      "55\n",
      "50\n",
      "45\n",
      "40\n",
      "35\n",
      "30\n",
      "25\n",
      "20\n",
      "15\n",
      "10\n",
      "5\n",
      "0\n",
      "-5\n",
      "-10\n"
     ]
    }
   ],
   "source": [
    "i = 100\n",
    "while i >=-10:\n",
    "    print(i)\n",
    "    i -= 5"
   ]
  },
  {
   "cell_type": "code",
   "execution_count": 12,
   "id": "cda835d3",
   "metadata": {},
   "outputs": [
    {
     "name": "stdout",
     "output_type": "stream",
     "text": [
      "2\n",
      "4\n",
      "16\n",
      "256\n",
      "65536\n"
     ]
    }
   ],
   "source": [
    "i = 2\n",
    "while i <= 1_000_000:\n",
    "    print(i)\n",
    "    i = i**2"
   ]
  },
  {
   "cell_type": "code",
   "execution_count": 14,
   "id": "b914dad0",
   "metadata": {},
   "outputs": [
    {
     "name": "stdout",
     "output_type": "stream",
     "text": [
      "100\n",
      "95\n",
      "90\n",
      "85\n",
      "80\n",
      "75\n",
      "70\n",
      "65\n",
      "60\n",
      "55\n",
      "50\n",
      "45\n",
      "40\n",
      "35\n",
      "30\n",
      "25\n",
      "20\n",
      "15\n",
      "10\n",
      "5\n"
     ]
    }
   ],
   "source": [
    "i = 100\n",
    "while i >=5:\n",
    "    print(i)\n",
    "    i -= 5"
   ]
  },
  {
   "cell_type": "markdown",
   "id": "ca3055fe",
   "metadata": {},
   "source": [
    "### 2.b For Loops"
   ]
  },
  {
   "cell_type": "code",
   "execution_count": 17,
   "id": "1763cf57",
   "metadata": {},
   "outputs": [
    {
     "name": "stdout",
     "output_type": "stream",
     "text": [
      "Enter a number: 7\n",
      "7 x 1 = 7\n",
      "7 x 1 = 14\n",
      "7 x 1 = 21\n",
      "7 x 1 = 28\n",
      "7 x 1 = 35\n",
      "7 x 1 = 42\n",
      "7 x 1 = 49\n",
      "7 x 1 = 56\n",
      "7 x 1 = 63\n",
      "7 x 1 = 70\n"
     ]
    }
   ],
   "source": [
    "table = [1, 2, 3, 4, 5, 6, 7, 8, 9, 10]\n",
    "number = int(input('Enter a number: '))\n",
    "for i in table:\n",
    "    print(f\"{number} x 1 = {number * i}\")"
   ]
  },
  {
   "cell_type": "code",
   "execution_count": 33,
   "id": "9a6a585c",
   "metadata": {},
   "outputs": [
    {
     "name": "stdout",
     "output_type": "stream",
     "text": [
      "1\n",
      "22\n",
      "333\n",
      "4444\n",
      "55555\n",
      "666666\n",
      "7777777\n",
      "88888888\n",
      "999999999\n"
     ]
    }
   ],
   "source": [
    "table = ['1', '2', '3', '4', '5', '6', '7', '8', '9']\n",
    "\n",
    "counter = 1\n",
    "for i in table:\n",
    "    print(i*counter)\n",
    "    counter += 1"
   ]
  },
  {
   "cell_type": "code",
   "execution_count": 43,
   "id": "b1310f93",
   "metadata": {},
   "outputs": [
    {
     "name": "stdout",
     "output_type": "stream",
     "text": [
      "1\n",
      "22\n",
      "333\n",
      "4444\n",
      "55555\n",
      "666666\n",
      "7777777\n",
      "88888888\n",
      "999999999\n"
     ]
    }
   ],
   "source": [
    "for i in range (1, 9+1):\n",
    "    for j in range(1, i+1):\n",
    "        print(i, end = \"\")\n",
    "    print()"
   ]
  },
  {
   "cell_type": "markdown",
   "id": "b1a5bb28",
   "metadata": {},
   "source": [
    "### 2.c. Break and Continue"
   ]
  },
  {
   "cell_type": "code",
   "execution_count": 51,
   "id": "573b1947",
   "metadata": {},
   "outputs": [
    {
     "name": "stdout",
     "output_type": "stream",
     "text": [
      "Enter a postive integer: 7\n",
      "7\n",
      "6\n",
      "5\n",
      "4\n",
      "3\n",
      "2\n",
      "1\n"
     ]
    }
   ],
   "source": [
    "number = int(input(\"Enter a postive integer: \"))\n",
    "while number > 0:\n",
    "    print(number)\n",
    "    number -= 1\n",
    "    continue"
   ]
  },
  {
   "cell_type": "code",
   "execution_count": 61,
   "id": "5fec5ee9",
   "metadata": {},
   "outputs": [
    {
     "name": "stdout",
     "output_type": "stream",
     "text": [
      "Enter a positive number: 4\n",
      "4\n",
      "3\n",
      "2\n",
      "1\n",
      "0\n"
     ]
    }
   ],
   "source": [
    "number = int(input(\"Enter a positive number: \"))\n",
    "x = -1\n",
    "while number > x:\n",
    "    print(number)\n",
    "    number -= 1 \n",
    "    continue"
   ]
  },
  {
   "cell_type": "code",
   "execution_count": 104,
   "id": "d1cc2d58",
   "metadata": {},
   "outputs": [
    {
     "name": "stdout",
     "output_type": "stream",
     "text": [
      "Enter an odd number between 1 and 50 to skip: 9\n",
      "Here is an odd number: 1\n",
      "Here is an odd number: 3\n",
      "Here is an odd number: 5\n",
      "Here is an odd number: 7\n",
      "Yikes! Skipping number: 9\n",
      "Here is an odd number: 11\n",
      "Here is an odd number: 13\n",
      "Here is an odd number: 15\n",
      "Here is an odd number: 17\n",
      "Here is an odd number: 19\n",
      "Here is an odd number: 21\n",
      "Here is an odd number: 23\n",
      "Here is an odd number: 25\n",
      "Here is an odd number: 27\n",
      "Here is an odd number: 29\n",
      "Here is an odd number: 31\n",
      "Here is an odd number: 33\n",
      "Here is an odd number: 35\n",
      "Here is an odd number: 37\n",
      "Here is an odd number: 39\n",
      "Here is an odd number: 41\n",
      "Here is an odd number: 43\n",
      "Here is an odd number: 45\n",
      "Here is an odd number: 47\n",
      "Here is an odd number: 49\n"
     ]
    }
   ],
   "source": [
    "number_to_skip = int(input(\"Enter an odd number between 1 and 50 to skip: \"))\n",
    "\n",
    "for i in range(1, 50):\n",
    "    if i%2 == 0:\n",
    "        continue\n",
    "    elif i%2 != 0 and i != number_to_skip:\n",
    "        print(f'Here is an odd number: {i}')\n",
    "    elif i == number_to_skip:\n",
    "        print(f\"Yikes! Skipping number: {i}\")\n",
    "    else:\n",
    "        pass"
   ]
  },
  {
   "cell_type": "code",
   "execution_count": 108,
   "id": "63a476fb",
   "metadata": {},
   "outputs": [
    {
     "name": "stdout",
     "output_type": "stream",
     "text": [
      "Enter an odd number between 1 and 50 to skip: r\n",
      "Enter an odd number between 1 and 50: r\n",
      "Enter an odd number between 1 and 50: r\n",
      "Enter an odd number between 1 and 50: r\n",
      "Enter an odd number between 1 and 50: g\n",
      "Enter an odd number between 1 and 50: g\n",
      "Enter an odd number between 1 and 50: gg\n",
      "Enter an odd number between 1 and 50: 7\n",
      "Here is an odd number: 1\n",
      "Here is an odd number: 3\n",
      "Here is an odd number: 5\n",
      "Yikes! Skipping number: 7\n",
      "Here is an odd number: 9\n",
      "Here is an odd number: 11\n",
      "Here is an odd number: 13\n",
      "Here is an odd number: 15\n",
      "Here is an odd number: 17\n",
      "Here is an odd number: 19\n",
      "Here is an odd number: 21\n",
      "Here is an odd number: 23\n",
      "Here is an odd number: 25\n",
      "Here is an odd number: 27\n",
      "Here is an odd number: 29\n",
      "Here is an odd number: 31\n",
      "Here is an odd number: 33\n",
      "Here is an odd number: 35\n",
      "Here is an odd number: 37\n",
      "Here is an odd number: 39\n",
      "Here is an odd number: 41\n",
      "Here is an odd number: 43\n",
      "Here is an odd number: 45\n",
      "Here is an odd number: 47\n",
      "Here is an odd number: 49\n"
     ]
    }
   ],
   "source": [
    "user_number = input(\"Enter an odd number between 1 and 50 to skip: \")\n",
    "\n",
    "while user_number.isdigit() == False:\n",
    "    user_number = input(\"Enter an odd number between 1 and 50: \")\n",
    "    if user_number.isdigit() == True:\n",
    "        number_to_skip = int(user_number)\n",
    "        break\n",
    "\n",
    "\n",
    "for i in range(1, 50):\n",
    "    if i%2 == 0:\n",
    "        continue\n",
    "    elif i%2 != 0 and i != number_to_skip:\n",
    "        print(f'Here is an odd number: {i}')\n",
    "    elif i == number_to_skip:\n",
    "        print(f\"Yikes! Skipping number: {i}\")\n",
    "    else:\n",
    "        pass"
   ]
  },
  {
   "cell_type": "markdown",
   "id": "c0a035b4",
   "metadata": {},
   "source": [
    "### 3. Fizzbuzz"
   ]
  },
  {
   "cell_type": "code",
   "execution_count": 116,
   "id": "fb74a969",
   "metadata": {},
   "outputs": [
    {
     "name": "stdout",
     "output_type": "stream",
     "text": [
      "1\n",
      "2\n",
      "3\n",
      "4\n",
      "Buzz\n",
      "6\n",
      "7\n",
      "8\n",
      "9\n",
      "Buzz\n",
      "11\n",
      "12\n",
      "13\n",
      "14\n",
      "FizzBuzz\n",
      "16\n",
      "17\n",
      "18\n",
      "19\n",
      "Buzz\n",
      "21\n",
      "22\n",
      "23\n",
      "24\n",
      "Buzz\n",
      "26\n",
      "27\n",
      "28\n",
      "29\n",
      "FizzBuzz\n",
      "31\n",
      "32\n",
      "33\n",
      "34\n",
      "Buzz\n",
      "36\n",
      "37\n",
      "38\n",
      "39\n",
      "Buzz\n",
      "41\n",
      "42\n",
      "43\n",
      "44\n",
      "FizzBuzz\n",
      "46\n",
      "47\n",
      "48\n",
      "49\n",
      "Buzz\n",
      "51\n",
      "52\n",
      "53\n",
      "54\n",
      "Buzz\n",
      "56\n",
      "57\n",
      "58\n",
      "59\n",
      "FizzBuzz\n",
      "61\n",
      "62\n",
      "63\n",
      "64\n",
      "Buzz\n",
      "66\n",
      "67\n",
      "68\n",
      "69\n",
      "Buzz\n",
      "71\n",
      "72\n",
      "73\n",
      "74\n",
      "FizzBuzz\n",
      "76\n",
      "77\n",
      "78\n",
      "79\n",
      "Buzz\n",
      "81\n",
      "82\n",
      "83\n",
      "84\n",
      "Buzz\n",
      "86\n",
      "87\n",
      "88\n",
      "89\n",
      "FizzBuzz\n",
      "91\n",
      "92\n",
      "93\n",
      "94\n",
      "Buzz\n",
      "96\n",
      "97\n",
      "98\n",
      "99\n",
      "Buzz\n"
     ]
    }
   ],
   "source": [
    "for i in range (1, 101):\n",
    "    if i % 3 == 0 and i % 5 == 0:\n",
    "        print(\"FizzBuzz\")\n",
    "    elif i % 3 == 0 and i % 3 != 0:\n",
    "        print(\"Fizz\")\n",
    "    elif i % 5 == 0 and i % 3 != 0:\n",
    "        print(\"Buzz\")\n",
    "    else:\n",
    "        print(i)"
   ]
  },
  {
   "cell_type": "markdown",
   "id": "76360e9e",
   "metadata": {},
   "source": [
    "### 4. Display a Table of Powers"
   ]
  },
  {
   "cell_type": "code",
   "execution_count": 124,
   "id": "c8f5a523",
   "metadata": {},
   "outputs": [
    {
     "name": "stdout",
     "output_type": "stream",
     "text": [
      "What number would you like to go up to? 5\n",
      "\n",
      "Here is your table!\n",
      "\n",
      "number | squared | cubed\n",
      "1 1 1\n",
      "2 4 8\n",
      "3 9 27\n",
      "4 16 64\n",
      "5 25 125\n"
     ]
    }
   ],
   "source": [
    "number = int(input(\"What number would you like to go up to? \"))\n",
    "\n",
    "print(end='\\n')\n",
    "print(\"Here is your table!\\n\")\n",
    "print(\"number | squared | cubed\")\n",
    "\n",
    "for i in range (1, number+1):\n",
    "    print(i, i**2, i**3)"
   ]
  },
  {
   "cell_type": "markdown",
   "id": "9664ddde",
   "metadata": {},
   "source": [
    "### 4. Bonus - Display a Table of Powers"
   ]
  },
  {
   "cell_type": "code",
   "execution_count": 151,
   "id": "0050f3de",
   "metadata": {},
   "outputs": [
    {
     "name": "stdout",
     "output_type": "stream",
     "text": [
      "What number would you like to go up to? 5\n",
      "\n",
      "Here is your table!\n",
      "\n",
      "number   | squared  | cubed   \n",
      "-------- | -------- | -------\n",
      "1        | 1        | 1       \n",
      "\n",
      "2        | 4        | 8       \n",
      "\n",
      "3        | 9        | 27      \n",
      "\n",
      "4        | 16       | 64      \n",
      "\n",
      "5        | 25       | 125     \n",
      "\n",
      "Would you like to continue? 'Y' for yes,'N' for no\n",
      "Nonen\n"
     ]
    }
   ],
   "source": [
    "play_game = True\n",
    "\n",
    "while play_game == True:\n",
    "    number = int(input(\"What number would you like to go up to? \"))\n",
    "\n",
    "    print(end='\\n')\n",
    "    print(\"Here is your table!\\n\")\n",
    "    print(f\"{'number': <8} | {'squared':<8} | {'cubed':<8}\")\n",
    "    print(f\"-------- | -------- | -------\")\n",
    "\n",
    "    for i in range (1, number+1):\n",
    "        print(f\"{i:<8} | {i**2:<8} | {i**3:<8}\\n\")\n",
    "\n",
    "    continue_game = input(print(\"Would you like to continue? 'Y' for yes,'N' for no\")).lower()\n",
    "    if continue_game == 'n':\n",
    "        play_game = False\n",
    "        break\n",
    "    else:\n",
    "        continue\n"
   ]
  },
  {
   "cell_type": "markdown",
   "id": "38b3bb45",
   "metadata": {},
   "source": [
    "### 5. Convert given number grades into letter grades"
   ]
  },
  {
   "cell_type": "code",
   "execution_count": 157,
   "id": "3ca1c9f2",
   "metadata": {
    "scrolled": true
   },
   "outputs": [
    {
     "name": "stdout",
     "output_type": "stream",
     "text": [
      "Enter grade: 99\n",
      "A\n",
      "Would you like to enter another grade? 'N' for no, 'Y' to continue: n\n"
     ]
    }
   ],
   "source": [
    "play_game = True\n",
    "\n",
    "while play_game == True:\n",
    "    grade = int(input(\"Enter grade: \"))\n",
    "    if grade >= 88:\n",
    "        print(\"A\")\n",
    "    elif grade >= 80:\n",
    "        print(\"B\")\n",
    "    elif grade >= 67:\n",
    "        print(\"C\")\n",
    "    elif grade > 60:\n",
    "        print(\"D\")\n",
    "    else:\n",
    "        print(\"F\")\n",
    "    continue_game = input(\"Would you like to enter another grade? 'N' for no, 'Y' to continue: \").lower()\n",
    "    if continue_game == 'n':\n",
    "        play_game = False\n",
    "    else:\n",
    "        continue"
   ]
  },
  {
   "cell_type": "markdown",
   "id": "2234158c",
   "metadata": {},
   "source": [
    "### 6 Dictionaries"
   ]
  },
  {
   "cell_type": "code",
   "execution_count": 169,
   "id": "56b048f3",
   "metadata": {},
   "outputs": [
    {
     "name": "stdout",
     "output_type": "stream",
     "text": [
      "{'title': 'Python 101', 'author': 'Angela Yu', 'genre': 'Computer Science'}\n",
      "{'title': 'Python Crash Course', 'author': 'Eric Matthes', 'genre': 'Computer Science'}\n",
      "{'title': 'Blah blah blah', 'author': 'XYZ', 'genre': 'Yo Yo'}\n",
      "Please enter genre to check: Computer Science\n",
      "Python 101\n",
      "Python Crash Course\n"
     ]
    }
   ],
   "source": [
    "book_list = [{\"title\":\"Python 101\", \"author\":\"Angela Yu\", \"genre\":\"Computer Science\"}, {\"title\":\"Python Crash Course\", \"author\":\"Eric Matthes\", \"genre\":\"Computer Science\"}, {\"title\":\"Blah blah blah\", \"author\":\"XYZ\", \"genre\":\"Yo Yo\"}]\n",
    "\n",
    "for i in book_list:\n",
    "    print(i)\n",
    "\n",
    "check_genre = input(\"Please enter genre to check: \")\n",
    "for item in book_list:\n",
    "    if check_genre == item[\"genre\"]:\n",
    "        print(item[\"title\"])\n"
   ]
  },
  {
   "cell_type": "code",
   "execution_count": null,
   "id": "8d6a900b",
   "metadata": {},
   "outputs": [],
   "source": []
  }
 ],
 "metadata": {
  "kernelspec": {
   "display_name": "Python 3 (ipykernel)",
   "language": "python",
   "name": "python3"
  },
  "language_info": {
   "codemirror_mode": {
    "name": "ipython",
    "version": 3
   },
   "file_extension": ".py",
   "mimetype": "text/x-python",
   "name": "python",
   "nbconvert_exporter": "python",
   "pygments_lexer": "ipython3",
   "version": "3.9.13"
  }
 },
 "nbformat": 4,
 "nbformat_minor": 5
}
