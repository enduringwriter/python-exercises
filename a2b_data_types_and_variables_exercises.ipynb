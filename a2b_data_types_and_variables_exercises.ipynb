{
 "cells": [
  {
   "cell_type": "markdown",
   "id": "ea221d4b",
   "metadata": {},
   "source": [
    "## Python Exercise: 3b_data_types_and_variables\n",
    "\n",
    "## Keith Stateson "
   ]
  },
  {
   "cell_type": "markdown",
   "id": "ca0bed80",
   "metadata": {},
   "source": [
    "### 5. Movie Rental"
   ]
  },
  {
   "cell_type": "code",
   "execution_count": 11,
   "id": "8ff192f7",
   "metadata": {},
   "outputs": [
    {
     "name": "stdout",
     "output_type": "stream",
     "text": [
      "$84\n"
     ]
    }
   ],
   "source": [
    "rented_movies = [{\"title\":\"little_mermaid\", \"days_rented\":3}, \n",
    "                 {\"title\":\"brother_bear\", \"days_rented\":5}, \n",
    "                 {\"title\":\"hercules\", \"days_rented\":1}]\n",
    "\n",
    "daily_fee = 3\n",
    "total = 0\n",
    "\n",
    "for movie in rented_movies:\n",
    "    days_per_movie = movie[\"days_rented\"]\n",
    "    total_days += days_per_movie\n",
    "\n",
    "payment_due = daily_fee * total_days\n",
    "print(f\"${payment_due}\")"
   ]
  },
  {
   "cell_type": "markdown",
   "id": "f5ecce6f",
   "metadata": {},
   "source": [
    "### 6. Weekly Pay"
   ]
  },
  {
   "cell_type": "code",
   "execution_count": 20,
   "id": "5ebdc046",
   "metadata": {},
   "outputs": [
    {
     "name": "stdout",
     "output_type": "stream",
     "text": [
      "$7,100\n"
     ]
    }
   ],
   "source": [
    "contract_schedule = [{\"company\":\"google\", \"hours_worked\":6, \"rate\":400}, \n",
    "                     {\"company\":\"amazon\", \"hours_worked\":4, \"rate\":300}, \n",
    "                     {\"company\":\"facebook\", \"hours_worked\":10, \"rate\":350}]\n",
    "\n",
    "total_weekly_pay = 0\n",
    "\n",
    "for company in contract_schedule:\n",
    "    weekly_pay_per_comp = company[\"hours_worked\"] * company[\"rate\"]\n",
    "    total_weekly_pay += weekly_pay_per_comp\n",
    "\n",
    "print(f\"${total_weekly_pay:,}\")"
   ]
  },
  {
   "cell_type": "markdown",
   "id": "d229aca9",
   "metadata": {},
   "source": [
    "### 7. Student Enrollment and Class Schedule"
   ]
  },
  {
   "cell_type": "code",
   "execution_count": 59,
   "id": "1feee95b",
   "metadata": {},
   "outputs": [
    {
     "name": "stdout",
     "output_type": "stream",
     "text": [
      "True\n",
      "Student may enroll in class!\n"
     ]
    }
   ],
   "source": [
    "student_schedule = [{\"MWF\": [\"8\", \"10\", \"2\"]},{\"T_TH\": [\"8:15\", \"10:15\"]}]\n",
    "max_students = 24\n",
    "current_class_enrollment = 18\n",
    "music_101 = {\"MWF\":\"9\"}\n",
    "class_open = bool\n",
    "no_class_conflict = bool\n",
    "\n",
    "if current_class_enrollment < max_students + 1:\n",
    "    class_open = True\n",
    "    print(class_open)\n",
    "else:\n",
    "    class_open = False\n",
    "\n",
    "for course in student_schedule:    \n",
    "    for course_time in course:\n",
    "        if music_101[\"MWF\"] == course_time:\n",
    "            no_class_conflict = False\n",
    "        else:\n",
    "            no_class_conflict = True\n",
    "\n",
    "if class_open == True and no_class_conflict == True:\n",
    "    print(\"Student may enroll in class!\")\n",
    "else:\n",
    "    print(\"Student cannot enroll in class\")"
   ]
  },
  {
   "cell_type": "markdown",
   "id": "9e886f1d",
   "metadata": {},
   "source": [
    "### 8. Product Offer Exclusivity"
   ]
  },
  {
   "cell_type": "code",
   "execution_count": 61,
   "id": "733ad127",
   "metadata": {},
   "outputs": [
    {
     "name": "stdout",
     "output_type": "stream",
     "text": [
      "yes\n"
     ]
    }
   ],
   "source": [
    "product_offer = .25  # 25% off\n",
    "premium_buyer = bool\n",
    "buyer_1_shopping_cart = [{\"iphone\":900}, {\"apple_display\":1800}]\n",
    "premium_customers = ['John', 'Doe', 'Jane', 'Doe']\n",
    "customer = 'Jane'\n",
    "\n",
    "if customer in premium_customers:\n",
    "    ...\n",
    "else:\n",
    "    ..."
   ]
  },
  {
   "cell_type": "markdown",
   "id": "b0013bd9",
   "metadata": {},
   "source": [
    "### 9. Boolean Condition"
   ]
  },
  {
   "cell_type": "code",
   "execution_count": null,
   "id": "094b2937",
   "metadata": {},
   "outputs": [],
   "source": [
    "username = 'codeup'\n",
    "password = 'notastrongpassword'\n",
    "\n"
   ]
  }
 ],
 "metadata": {
  "kernelspec": {
   "display_name": "Python 3 (ipykernel)",
   "language": "python",
   "name": "python3"
  },
  "language_info": {
   "codemirror_mode": {
    "name": "ipython",
    "version": 3
   },
   "file_extension": ".py",
   "mimetype": "text/x-python",
   "name": "python",
   "nbconvert_exporter": "python",
   "pygments_lexer": "ipython3",
   "version": "3.9.13"
  }
 },
 "nbformat": 4,
 "nbformat_minor": 5
}
